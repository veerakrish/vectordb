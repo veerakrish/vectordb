{
 "cells": [
  {
   "cell_type": "markdown",
   "metadata": {},
   "source": [
    "# Mistral VectorDB - Basic Usage\n",
    "\n",
    "This notebook demonstrates the basic usage of Mistral VectorDB for vector storage and retrieval."
   ]
  },
  {
   "cell_type": "code",
   "execution_count": null,
   "metadata": {},
   "source": [
    "import numpy as np\n",
    "from mistral_vectordb import VectorStore\n",
    "\n",
    "# Initialize vector store\n",
    "store = VectorStore(\n",
    "    storage_dir=\"demo_vectors\",\n",
    "    dim=128,  # Vector dimension\n",
    "    distance_metric=\"cosine\"  # Distance metric for similarity search\n",
    ")"
   ]
  },
  {
   "cell_type": "markdown",
   "metadata": {},
   "source": [
    "## Adding Vectors\n",
    "\n",
    "Let's add some random vectors with metadata to our store."
   ]
  },
  {
   "cell_type": "code",
   "execution_count": null,
   "metadata": {},
   "source": [
    "# Generate random vectors\n",
    "np.random.seed(42)\n",
    "vectors = np.random.rand(5, 128)\n",
    "\n",
    "# Add vectors with metadata\n",
    "for i, vector in enumerate(vectors):\n",
    "    store.add_item(\n",
    "        id=f\"doc_{i}\",\n",
    "        vector=vector,\n",
    "        metadata={\"text\": f\"Document {i}\", \"category\": f\"Category {i % 2}\"}\n",
    "    )"
   ]
  },
  {
   "cell_type": "markdown",
   "metadata": {},
   "source": [
    "## Searching Vectors\n",
    "\n",
    "Now let's search for similar vectors."
   ]
  },
  {
   "cell_type": "code",
   "execution_count": null,
   "metadata": {},
   "source": [
    "# Create a query vector\n",
    "query_vector = vectors[0] + np.random.rand(128) * 0.1\n",
    "\n",
    "# Search for similar vectors\n",
    "results = store.search(query_vector, top_k=3)\n",
    "\n",
    "# Display results\n",
    "for result in results:\n",
    "    print(f\"ID: {result.id}\")\n",
    "    print(f\"Score: {result.score:.4f}\")\n",
    "    print(f\"Metadata: {result.metadata}\")\n",
    "    print()"
   ]
  },
  {
   "cell_type": "markdown",
   "metadata": {},
   "source": [
    "## Batch Operations\n",
    "\n",
    "Mistral VectorDB supports efficient batch operations."
   ]
  },
  {
   "cell_type": "code",
   "execution_count": null,
   "metadata": {},
   "source": [
    "# Generate more random vectors\n",
    "batch_vectors = np.random.rand(3, 128)\n",
    "\n",
    "# Prepare batch items\n",
    "batch_items = [\n",
    "    (vector, f\"batch_{i}\", {\"text\": f\"Batch Document {i}\"}) \n",
    "    for i, vector in enumerate(batch_vectors)\n",
    "]\n",
    "\n",
    "# Add vectors in batch\n",
    "store.batch_add(batch_items)\n",
    "\n",
    "# Batch search\n",
    "query_vectors = np.random.rand(2, 128)\n",
    "batch_results = store.batch_search(query_vectors, top_k=2)\n",
    "\n",
    "# Display batch results\n",
    "for i, results in enumerate(batch_results):\n",
    "    print(f\"\\nResults for query {i}:\")\n",
    "    for result in results:\n",
    "        print(f\"ID: {result.id}, Score: {result.score:.4f}\")"
   ]
  },
  {
   "cell_type": "markdown",
   "metadata": {},
   "source": [
    "## Backup and Restore\n",
    "\n",
    "Mistral VectorDB provides built-in backup and restore functionality."
   ]
  },
  {
   "cell_type": "code",
   "execution_count": null,
   "metadata": {},
   "source": [
    "# Create backup\n",
    "store.backup(\"demo_backup\")\n",
    "\n",
    "# Create new store and restore from backup\n",
    "new_store = VectorStore(\n",
    "    storage_dir=\"restored_vectors\",\n",
    "    dim=128\n",
    ")\n",
    "new_store.restore(\"demo_backup\")\n",
    "\n",
    "# Verify restoration\n",
    "results = new_store.search(query_vector, top_k=1)\n",
    "print(\"Restored store search result:\")\n",
    "print(f\"ID: {results[0].id}\")\n",
    "print(f\"Score: {results[0].score:.4f}\")\n",
    "print(f\"Metadata: {results[0].metadata}\")"
   ]
  }
 ],
 "metadata": {
  "kernelspec": {
   "display_name": "Python 3",
   "language": "python",
   "name": "python3"
  },
  "language_info": {
   "codemirror_mode": {
    "name": "ipython",
    "version": 3
   },
   "file_extension": ".py",
   "mimetype": "text/x-python",
   "name": "python",
   "nbconvert_exporter": "python",
   "pygments_lexer": "ipython3",
   "version": "3.8.0"
  }
 },
 "nbformat": 4,
 "nbformat_minor": 4
}
